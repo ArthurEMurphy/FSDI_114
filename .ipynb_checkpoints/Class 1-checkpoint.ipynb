{
 "cells": [
  {
   "cell_type": "code",
   "execution_count": 2,
   "id": "20b7ae35",
   "metadata": {},
   "outputs": [
    {
     "name": "stdout",
     "output_type": "stream",
     "text": [
      "h\n",
      "e\n",
      "l\n",
      "l\n",
      "o\n",
      ",\n",
      " \n",
      "w\n",
      "o\n",
      "r\n",
      "l\n",
      "d\n"
     ]
    }
   ],
   "source": [
    "for letter in \"hello, world\":\n",
    "    print (letter)"
   ]
  },
  {
   "cell_type": "markdown",
   "id": "15aab487",
   "metadata": {},
   "source": [
    "# Problem 1\n",
    "### Given two strings (string_a and string_b) determine if they are anagrams of each other given the following criteria:\n",
    "\n",
    "> Two strings are only anagrams of each other if all conditions below are met:\n",
    "> * They must be exactly the same length\n",
    "> * They must use exactly the same characters (no more, no less)\n",
    "\n",
    "'Examples: cars and scars, heart and earth, etc.'\n",
    "\n",
    "## Instructions\n",
    "Create a function called \"anagram check\" that returns true if the two parameters (both strings) submitted are anagrams of each other and false otherwise. "
   ]
  },
  {
   "cell_type": "code",
   "execution_count": 6,
   "id": "dd798e66",
   "metadata": {},
   "outputs": [
    {
     "data": {
      "text/plain": [
       "True"
      ]
     },
     "execution_count": 6,
     "metadata": {},
     "output_type": "execute_result"
    }
   ],
   "source": [
    "# Bad solution; Avoid this:\n",
    "#def anagram_check(str1, str2):\n",
    " #   return sorted(str1) == sorted(str2)"
   ]
  },
  {
   "cell_type": "code",
   "execution_count": 8,
   "id": "34094f81",
   "metadata": {},
   "outputs": [
    {
     "data": {
      "text/plain": [
       "True"
      ]
     },
     "execution_count": 8,
     "metadata": {},
     "output_type": "execute_result"
    }
   ],
   "source": [
    "#anagram_check(\"heart\", \"earth\")"
   ]
  },
  {
   "cell_type": "code",
   "execution_count": 9,
   "id": "eb7111b2",
   "metadata": {},
   "outputs": [
    {
     "ename": "SyntaxError",
     "evalue": "invalid syntax (754851857.py, line 1)",
     "output_type": "error",
     "traceback": [
      "\u001b[0;36m  Input \u001b[0;32mIn [9]\u001b[0;36m\u001b[0m\n\u001b[0;31m    Compare string length of each string; have to be equal, count the number of characters in each string.\u001b[0m\n\u001b[0m            ^\u001b[0m\n\u001b[0;31mSyntaxError\u001b[0m\u001b[0;31m:\u001b[0m invalid syntax\n"
     ]
    }
   ],
   "source": [
    "Compare string length of each string; have to be equal, count the number of characters in each string.\n",
    "Compare each character in each string to the characters in the other string to make sure they match exactly, \n",
    "compare each of the characters making sure that each string has the same number of characters and the same characters. \n",
    "Return true if everythng matches otherwise return false. \n",
    "\n",
    "#def anagram_checker(str1, str2):\n",
    "#    str1=str1.lower()\n",
    "#    str2=str2.lower()\n",
    "#    if(len(str1)==len(str2)\n",
    "#       return True\n",
    "#   else:\n",
    " #      return False"
   ]
  },
  {
   "cell_type": "code",
   "execution_count": 16,
   "id": "6cbf7c0a",
   "metadata": {},
   "outputs": [
    {
     "data": {
      "text/plain": [
       "False"
      ]
     },
     "execution_count": 16,
     "metadata": {},
     "output_type": "execute_result"
    }
   ],
   "source": [
    "#anagram_check(\"body\", \"bodD\")"
   ]
  },
  {
   "cell_type": "code",
   "execution_count": 17,
   "id": "6dc405b8",
   "metadata": {},
   "outputs": [
    {
     "data": {
      "text/plain": [
       "False"
      ]
     },
     "execution_count": 17,
     "metadata": {},
     "output_type": "execute_result"
    }
   ],
   "source": [
    "#anagram_check(\"aaaa\",\"aaab\")"
   ]
  },
  {
   "cell_type": "code",
   "execution_count": 25,
   "id": "3847c293",
   "metadata": {},
   "outputs": [],
   "source": [
    "def anagram_check(string_a, string_b):\n",
    "    string_a = (string_a.lower()).replace(\" \", \"\")\n",
    "    string_b = (string_b.lower()).replace(\" \", \"\")\n",
    "    if len(string_a) != len(string_b):\n",
    "        return False\n",
    "    char_times_a = dict()\n",
    "    char_times_b = dict()\n",
    "    for i in range(len(string_a)):\n",
    "        if string_a[i] not in char_times_a.keys():\n",
    "            char_times_a[string_a[i]] = 1\n",
    "        else:\n",
    "            char_times_a[string_a[i]] += 1\n",
    "        if string_b[i] not in char_times_b.keys():\n",
    "            char_times_b[string_b[i]] = 1\n",
    "        else:\n",
    "            char_times_b[string_b[i]] += 1\n",
    "        return char_times_a == char_times_b\n",
    "    "
   ]
  },
  {
   "cell_type": "code",
   "execution_count": 28,
   "id": "1b0871a7",
   "metadata": {},
   "outputs": [
    {
     "data": {
      "text/plain": [
       "False"
      ]
     },
     "execution_count": 28,
     "metadata": {},
     "output_type": "execute_result"
    }
   ],
   "source": [
    "anagram_check(\"heart\", \"reath\")\n",
    "# \" I am Lord Voldemort\" is an anagram \"Tom Marvolo Riddle\"\n"
   ]
  },
  {
   "cell_type": "code",
   "execution_count": 29,
   "id": "f85671db",
   "metadata": {},
   "outputs": [
    {
     "data": {
      "text/plain": [
       "False"
      ]
     },
     "execution_count": 29,
     "metadata": {},
     "output_type": "execute_result"
    }
   ],
   "source": [
    "anagram_check(\"I am Lord Voldemort\", \"Tom Marvolo Riddle\")"
   ]
  },
  {
   "cell_type": "code",
   "execution_count": 30,
   "id": "2d0689c8",
   "metadata": {},
   "outputs": [],
   "source": [
    "class Stack:\n",
    "    def __init__(self):\n",
    "        self.items = []\n",
    "        \n",
    "    def push(self, element):\n",
    "        self.items.append(element)\n",
    "        \n",
    "    def pop(self):\n",
    "        self.items.pop()\n",
    "        \n",
    "    def size(self):\n",
    "        return len(self.items)\n",
    "    \n",
    "    def peek(self):\n",
    "        return self.items[len(self.items-1)]\n",
    "    \n",
    "    def is_empty(self):\n",
    "        return self.items == []"
   ]
  },
  {
   "cell_type": "markdown",
   "id": "1750f694",
   "metadata": {},
   "source": [
    "# Problem 2 \n",
    "### Use our stack class to invert a string\n",
    "\n",
    "## Instructions\n",
    "Create a function called \"string_reverse\" that takes a string as a parameter and inverts it using our stack class. \n",
    "*Your function must use out stack class!*\n",
    "\n",
    "Examples:\n",
    "```\n",
    "string_reverse(\"Rafael\") should return \"leafaR\"\n",
    "string_reverse(\"cars\" should return \"srac\"\n",
    "etc\n",
    "```"
   ]
  },
  {
   "cell_type": "code",
   "execution_count": 1,
   "id": "c6e0620b",
   "metadata": {},
   "outputs": [],
   "source": [
    "def string_reversal(mystring):\n",
    "    output_str = \"\"\n",
    "    stack = Stack()\n",
    "    for letter in mystrings:\n",
    "        stack.push(letter)\n",
    "    while not stack.is_empty():\n",
    "        output_str += stack.pop()\n",
    "    return output_str"
   ]
  },
  {
   "cell_type": "code",
   "execution_count": 4,
   "id": "8dc2f212",
   "metadata": {},
   "outputs": [
    {
     "ename": "NameError",
     "evalue": "name 'string_reversal' is not defined",
     "output_type": "error",
     "traceback": [
      "\u001b[0;31m---------------------------------------------------------------------------\u001b[0m",
      "\u001b[0;31mNameError\u001b[0m                                 Traceback (most recent call last)",
      "Input \u001b[0;32mIn [4]\u001b[0m, in \u001b[0;36m<cell line: 1>\u001b[0;34m()\u001b[0m\n\u001b[0;32m----> 1\u001b[0m \u001b[43mstring_reversal\u001b[49m(\u001b[38;5;124m\"\u001b[39m\u001b[38;5;124mRafael\u001b[39m\u001b[38;5;124m\"\u001b[39m)\n",
      "\u001b[0;31mNameError\u001b[0m: name 'string_reversal' is not defined"
     ]
    }
   ],
   "source": [
    "string_reversal(\"Rafael\")"
   ]
  },
  {
   "cell_type": "code",
   "execution_count": null,
   "id": "eac23d18",
   "metadata": {},
   "outputs": [],
   "source": []
  }
 ],
 "metadata": {
  "kernelspec": {
   "display_name": "Python 3 (ipykernel)",
   "language": "python",
   "name": "python3"
  },
  "language_info": {
   "codemirror_mode": {
    "name": "ipython",
    "version": 3
   },
   "file_extension": ".py",
   "mimetype": "text/x-python",
   "name": "python",
   "nbconvert_exporter": "python",
   "pygments_lexer": "ipython3",
   "version": "3.10.4"
  }
 },
 "nbformat": 4,
 "nbformat_minor": 5
}
