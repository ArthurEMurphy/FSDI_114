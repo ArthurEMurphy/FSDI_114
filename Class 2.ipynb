{
 "cells": [
  {
   "cell_type": "code",
   "execution_count": 12,
   "id": "d295286f",
   "metadata": {},
   "outputs": [],
   "source": [
    "class Node:\n",
    "    def __init__(self, data):\n",
    "        self.above = None\n",
    "        self.below = None\n",
    "        self.data = data\n",
    "        "
   ]
  },
  {
   "cell_type": "code",
   "execution_count": 21,
   "id": "e3c1371e",
   "metadata": {},
   "outputs": [],
   "source": [
    "class Stack:\n",
    "    def __init__(self):\n",
    "        self.base = None\n",
    "        self.top = None\n",
    "        \n",
    "    def push(self, element):\n",
    "        if not self.base:\n",
    "            self.base = Node(element)\n",
    "            self.top = self.base\n",
    "        else:\n",
    "            topmost_item = self.top\n",
    "            new_node = Node(element)\n",
    "            topmost_item.above = new_node\n",
    "            new_node.below = topmost_item\n",
    "            self.top = new_node\n",
    "        \n",
    "    def pop(self):\n",
    "        if not self.base:\n",
    "            raise IndexError(\"Stack empty\")\n",
    "        if self.top == self.base:\n",
    "            value = self.base.data\n",
    "            self.top = None\n",
    "            self.base = None\n",
    "            return value\n",
    "        new_top = self.top.below\n",
    "        old_top = self.top\n",
    "        new_top.above = None\n",
    "        self.top = new_top\n",
    "        return old_top.data\n",
    "    \n",
    "    def size(self):\n",
    "        # should return the total amount of elements in our stacks\n",
    "        # this should return an Integer that represents our stack's size\n",
    "        \n",
    "        if not self.base:\n",
    "            return 0\n",
    "        counter = 1\n",
    "        current = self.base\n",
    "        while current.above: # shorthand for 'while current.above != None'\n",
    "            counter += 1\n",
    "            current = current.above\n",
    "        return counter\n",
    "    \n",
    "    def is_empty(self):\n",
    "        # should return True if the stack us empty, False otherwise\n",
    "        \n",
    "        if not self.base:\n",
    "            return True\n",
    "        return False\n",
    "            \n",
    "    def peek(self):\n",
    "        # should return the \"data\" associated with the topmost Node without removing said Node from our Stack\n",
    "        \n",
    "        return self.top.data\n",
    "    "
   ]
  },
  {
   "cell_type": "code",
   "execution_count": 22,
   "id": "a37b4fc9",
   "metadata": {},
   "outputs": [],
   "source": [
    "def reverse_string(mystring):\n",
    "    output_str = \"\"\n",
    "    stack = Stack()\n",
    "    for letter in mystring:\n",
    "        stack.push(letter)\n",
    "    for _ in range(len(mystring)):\n",
    "        output_str += stack.pop()\n",
    "    return output_str\n"
   ]
  },
  {
   "cell_type": "code",
   "execution_count": 10,
   "id": "285364d0",
   "metadata": {},
   "outputs": [
    {
     "data": {
      "text/plain": [
       "'leafaR'"
      ]
     },
     "execution_count": 10,
     "metadata": {},
     "output_type": "execute_result"
    }
   ],
   "source": [
    "reverse_string(\"Rafael\")"
   ]
  },
  {
   "cell_type": "code",
   "execution_count": 15,
   "id": "25f0fc83",
   "metadata": {},
   "outputs": [
    {
     "data": {
      "text/plain": [
       "'trA'"
      ]
     },
     "execution_count": 15,
     "metadata": {},
     "output_type": "execute_result"
    }
   ],
   "source": [
    "reverse_string(\"Art\")"
   ]
  },
  {
   "cell_type": "code",
   "execution_count": 24,
   "id": "940e779b",
   "metadata": {},
   "outputs": [
    {
     "name": "stdout",
     "output_type": "stream",
     "text": [
      "TOK!\n"
     ]
    }
   ],
   "source": [
    "stack = Stack()\n",
    "for i in range(10):\n",
    "    stack.push(i)\n",
    "    \n",
    "try:\n",
    "    assert stack.size() == 10\n",
    "    print(\"TOK!\")\n",
    "except Exception as e:\n",
    "    print(stack.size())\n",
    "    "
   ]
  },
  {
   "cell_type": "code",
   "execution_count": 28,
   "id": "1884ba11",
   "metadata": {},
   "outputs": [
    {
     "name": "stdout",
     "output_type": "stream",
     "text": [
      "5\n",
      "140450239332752\n",
      "140450239332720\n"
     ]
    }
   ],
   "source": [
    "# passing by value\n",
    "x = 5\n",
    "y = x\n",
    "\n",
    "x += 1\n",
    "\n",
    "print(y)\n",
    "\n",
    "print(id(x))\n",
    "print(id(y))"
   ]
  },
  {
   "cell_type": "code",
   "execution_count": 27,
   "id": "5036dd6a",
   "metadata": {},
   "outputs": [
    {
     "name": "stdout",
     "output_type": "stream",
     "text": [
      "[1, 2, 3, 4]\n",
      "140450186711424\n",
      "140450186711424\n"
     ]
    }
   ],
   "source": [
    "# passing by reference\n",
    "\n",
    "x = [1,2,3,4,5]\n",
    "\n",
    "y = x\n",
    "\n",
    "x.pop()\n",
    "\n",
    "print(y)\n",
    "\n",
    "print(id(x))\n",
    "print(id(y))"
   ]
  },
  {
   "cell_type": "code",
   "execution_count": 29,
   "id": "eee46571",
   "metadata": {},
   "outputs": [],
   "source": [
    "class Queue:\n",
    "    def __init__(self):\n",
    "        self.items = []\n",
    "        \n",
    "    def enqueue(self, element):\n",
    "        self.items.insert(0, element)\n",
    "        \n",
    "    def dequeue(self):\n",
    "        return self.items.pop()\n",
    "    \n",
    "    def size(self):\n",
    "        return len(self.items)\n",
    "    \n",
    "    def is_empty(self):\n",
    "        return self.items == []\n",
    "    \n",
    "    def peek(self):\n",
    "        return self.items[len(self.items)-1]\n",
    "    "
   ]
  },
  {
   "cell_type": "code",
   "execution_count": 30,
   "id": "80b5866b",
   "metadata": {},
   "outputs": [
    {
     "name": "stdout",
     "output_type": "stream",
     "text": [
      "Element: 0\n",
      "Element: 1\n",
      "Element: 2\n",
      "Element: 3\n",
      "Element: 4\n",
      "Element: 5\n",
      "Element: 6\n",
      "Element: 7\n",
      "Element: 8\n",
      "Element: 9\n"
     ]
    }
   ],
   "source": [
    "queue = Queue()\n",
    "\n",
    "for i in range(10):\n",
    "    queue.enqueue(i)\n",
    "    \n",
    "while not queue.is_empty():\n",
    "    print(\"Element: %s\" % queue.dequeue())\n",
    "    "
   ]
  },
  {
   "cell_type": "code",
   "execution_count": 31,
   "id": "5cb6aa85",
   "metadata": {},
   "outputs": [],
   "source": [
    "# Implement a Queue class without using a Python list based on our approach with Stack.\n",
    "# Consider using a Node class for this as well. "
   ]
  },
  {
   "cell_type": "code",
   "execution_count": 44,
   "id": "a858496f",
   "metadata": {},
   "outputs": [],
   "source": [
    "class QNode:\n",
    "    def __init__(self, data):\n",
    "        self.back = None\n",
    "        self.front = None\n",
    "        self.data = data\n",
    "        "
   ]
  },
  {
   "cell_type": "code",
   "execution_count": 51,
   "id": "cf550a4f",
   "metadata": {},
   "outputs": [],
   "source": [
    "class Queue:\n",
    "    def __init__(self):\n",
    "        self.next = None\n",
    "        self.last = None\n",
    "        \n",
    "    def enqueue(self, element):\n",
    "        new_node = QNode(element)\n",
    "        if not self.last:\n",
    "            self.last = new_node\n",
    "            self.next = self.last\n",
    "        else:\n",
    "            new_node.front = self.last\n",
    "            self.last.back = new_node\n",
    "            self.last = new_node\n",
    "        \n",
    "    def dequeue(self):\n",
    "        if not self.back:\n",
    "            raise IndexError(\"Queue empty\")\n",
    "        if self.front == self.back:\n",
    "            value = self.back.data\n",
    "            self.front = None\n",
    "            self.back = None\n",
    "            return value\n",
    "        new_front = self.front.below\n",
    "        old_front = self.front\n",
    "        new_front.above = None\n",
    "        self.front = new_front\n",
    "        return old_front.data\n",
    "    "
   ]
  },
  {
   "cell_type": "code",
   "execution_count": 54,
   "id": "c38fc889",
   "metadata": {},
   "outputs": [
    {
     "ename": "TypeError",
     "evalue": "'Node' object is not callable",
     "output_type": "error",
     "traceback": [
      "\u001b[0;31m---------------------------------------------------------------------------\u001b[0m",
      "\u001b[0;31mTypeError\u001b[0m                                 Traceback (most recent call last)",
      "Input \u001b[0;32mIn [54]\u001b[0m, in \u001b[0;36m<cell line: 6>\u001b[0;34m()\u001b[0m\n\u001b[1;32m      3\u001b[0m \u001b[38;5;28;01mfor\u001b[39;00m i \u001b[38;5;129;01min\u001b[39;00m \u001b[38;5;28mrange\u001b[39m(\u001b[38;5;241m10\u001b[39m):\n\u001b[1;32m      4\u001b[0m     queue\u001b[38;5;241m.\u001b[39mpush(i)\n\u001b[0;32m----> 6\u001b[0m \u001b[38;5;28;01mwhile\u001b[39;00m \u001b[38;5;129;01mnot\u001b[39;00m \u001b[43mqueue\u001b[49m\u001b[38;5;241;43m.\u001b[39;49m\u001b[43mback\u001b[49m\u001b[43m(\u001b[49m\u001b[38;5;28;43;01mNone\u001b[39;49;00m\u001b[43m)\u001b[49m:\n\u001b[1;32m      7\u001b[0m     \u001b[38;5;28mprint\u001b[39m(\u001b[38;5;124m\"\u001b[39m\u001b[38;5;124mElement: \u001b[39m\u001b[38;5;132;01m%s\u001b[39;00m\u001b[38;5;124m\"\u001b[39m \u001b[38;5;241m%\u001b[39m queue\u001b[38;5;241m.\u001b[39mpop())\n",
      "\u001b[0;31mTypeError\u001b[0m: 'Node' object is not callable"
     ]
    }
   ],
   "source": [
    "queue = Queue()\n",
    "\n",
    "for i in range(10):\n",
    "    queue.push(i)\n",
    "    \n",
    "while not queue.back():\n",
    "    print(\"Element: %s\" % queue.pop())"
   ]
  },
  {
   "cell_type": "code",
   "execution_count": null,
   "id": "8d88f92b",
   "metadata": {},
   "outputs": [],
   "source": []
  }
 ],
 "metadata": {
  "kernelspec": {
   "display_name": "Python 3 (ipykernel)",
   "language": "python",
   "name": "python3"
  },
  "language_info": {
   "codemirror_mode": {
    "name": "ipython",
    "version": 3
   },
   "file_extension": ".py",
   "mimetype": "text/x-python",
   "name": "python",
   "nbconvert_exporter": "python",
   "pygments_lexer": "ipython3",
   "version": "3.10.4"
  }
 },
 "nbformat": 4,
 "nbformat_minor": 5
}
